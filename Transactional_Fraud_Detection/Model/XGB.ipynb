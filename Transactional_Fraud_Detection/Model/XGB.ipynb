{
 "cells": [
  {
   "cell_type": "markdown",
   "id": "e346f3ad-4db7-4383-94a3-cbe91161e7e3",
   "metadata": {},
   "source": [
    "# XGBOOST na szybko"
   ]
  },
  {
   "cell_type": "code",
   "execution_count": 1,
   "id": "b9e884d0-888d-4929-a5c3-70e8c72275de",
   "metadata": {},
   "outputs": [],
   "source": [
    "import os\n",
    "import pandas as pd\n",
    "import numpy as np\n",
    "import matplotlib.pyplot as plt\n",
    "import seaborn as sns"
   ]
  },
  {
   "cell_type": "code",
   "execution_count": 2,
   "id": "25f616c8-d79d-4972-8499-17d394f1e7e8",
   "metadata": {},
   "outputs": [],
   "source": [
    "df_transactions = pd.read_json('../data/transactions.json', lines=True)\n",
    "df_users = pd.read_csv('../data/users.csv')\n",
    "df_merchants = pd.read_csv('../data/merchants.csv')"
   ]
  },
  {
   "cell_type": "code",
   "execution_count": 60,
   "id": "8e72f5f4-8e37-4d98-8ed6-f8049138bdd9",
   "metadata": {},
   "outputs": [],
   "source": [
    "# --------- Temporal data feature engineering\n",
    "\n",
    "df_transactions['hour'] = df_transactions['timestamp'].dt.hour\n",
    "df_transactions['day_of_week'] = df_transactions['timestamp'].dt.dayofweek  # 0=Monday\n",
    "df_transactions['is_weekend'] = df_transactions['day_of_week'] >= 5\n",
    "df_transactions['month'] = df_transactions['timestamp'].dt.month\n",
    "\n",
    "# Time Since Last Transaction: User-level\n",
    "df_transactions = df_transactions.sort_values(['user_id', 'timestamp'])\n",
    "df_transactions['time_since_last_user_txn'] = (\n",
    "    df_transactions.groupby('user_id')['timestamp']\n",
    "    .diff()\n",
    "    .dt.total_seconds()\n",
    ")\n",
    "\n",
    "# Time Since Last Transaction: Merchant-level\n",
    "df_transactions = df_transactions.sort_values(['merchant_id', 'timestamp'])\n",
    "df_transactions['time_since_last_merchant_txn'] = (\n",
    "    df_transactions.groupby('merchant_id')['timestamp']\n",
    "    .diff()\n",
    "    .dt.total_seconds()\n",
    ")\n",
    "\n",
    "#TODO: time since last transaction: user-merchant level"
   ]
  },
  {
   "cell_type": "code",
   "execution_count": 3,
   "id": "7dc26543-fc5e-4431-bd7f-3dbf25dbdad7",
   "metadata": {},
   "outputs": [
    {
     "data": {
      "text/html": [
       "<div>\n",
       "<style scoped>\n",
       "    .dataframe tbody tr th:only-of-type {\n",
       "        vertical-align: middle;\n",
       "    }\n",
       "\n",
       "    .dataframe tbody tr th {\n",
       "        vertical-align: top;\n",
       "    }\n",
       "\n",
       "    .dataframe thead th {\n",
       "        text-align: right;\n",
       "    }\n",
       "</style>\n",
       "<table border=\"1\" class=\"dataframe\">\n",
       "  <thead>\n",
       "    <tr style=\"text-align: right;\">\n",
       "      <th></th>\n",
       "      <th>transaction_id</th>\n",
       "      <th>timestamp</th>\n",
       "      <th>user_id</th>\n",
       "      <th>merchant_id</th>\n",
       "      <th>amount</th>\n",
       "      <th>channel</th>\n",
       "      <th>currency</th>\n",
       "      <th>device</th>\n",
       "      <th>payment_method</th>\n",
       "      <th>is_international</th>\n",
       "      <th>session_length_seconds</th>\n",
       "      <th>is_first_time_merchant</th>\n",
       "      <th>is_fraud</th>\n",
       "      <th>latitude</th>\n",
       "      <th>longitude</th>\n",
       "    </tr>\n",
       "  </thead>\n",
       "  <tbody>\n",
       "    <tr>\n",
       "      <th>0</th>\n",
       "      <td>TX000000</td>\n",
       "      <td>2022-06-17 23:28:00</td>\n",
       "      <td>U14804</td>\n",
       "      <td>M0314</td>\n",
       "      <td>130.03</td>\n",
       "      <td>in-store</td>\n",
       "      <td>EUR</td>\n",
       "      <td>Android</td>\n",
       "      <td>debit_card</td>\n",
       "      <td>1</td>\n",
       "      <td>145</td>\n",
       "      <td>0</td>\n",
       "      <td>0</td>\n",
       "      <td>40.057938</td>\n",
       "      <td>14.959737</td>\n",
       "    </tr>\n",
       "    <tr>\n",
       "      <th>1</th>\n",
       "      <td>TX000001</td>\n",
       "      <td>2022-01-04 15:39:00</td>\n",
       "      <td>U16634</td>\n",
       "      <td>M0675</td>\n",
       "      <td>132.00</td>\n",
       "      <td>online</td>\n",
       "      <td>EUR</td>\n",
       "      <td>Android</td>\n",
       "      <td>debit_card</td>\n",
       "      <td>1</td>\n",
       "      <td>32</td>\n",
       "      <td>1</td>\n",
       "      <td>0</td>\n",
       "      <td>42.059350</td>\n",
       "      <td>1.596625</td>\n",
       "    </tr>\n",
       "    <tr>\n",
       "      <th>2</th>\n",
       "      <td>TX000002</td>\n",
       "      <td>2022-09-09 21:58:00</td>\n",
       "      <td>U18005</td>\n",
       "      <td>M0479</td>\n",
       "      <td>8.65</td>\n",
       "      <td>online</td>\n",
       "      <td>EUR</td>\n",
       "      <td>Android</td>\n",
       "      <td>credit_card</td>\n",
       "      <td>1</td>\n",
       "      <td>604</td>\n",
       "      <td>1</td>\n",
       "      <td>0</td>\n",
       "      <td>50.923432</td>\n",
       "      <td>21.795262</td>\n",
       "    </tr>\n",
       "    <tr>\n",
       "      <th>3</th>\n",
       "      <td>TX000003</td>\n",
       "      <td>2023-11-20 06:40:00</td>\n",
       "      <td>U13690</td>\n",
       "      <td>M0538</td>\n",
       "      <td>19.82</td>\n",
       "      <td>mobile</td>\n",
       "      <td>EUR</td>\n",
       "      <td>iOS</td>\n",
       "      <td>credit_card</td>\n",
       "      <td>0</td>\n",
       "      <td>1031</td>\n",
       "      <td>1</td>\n",
       "      <td>0</td>\n",
       "      <td>56.833396</td>\n",
       "      <td>-9.881566</td>\n",
       "    </tr>\n",
       "    <tr>\n",
       "      <th>4</th>\n",
       "      <td>TX000004</td>\n",
       "      <td>2022-04-28 08:08:00</td>\n",
       "      <td>U04642</td>\n",
       "      <td>M0128</td>\n",
       "      <td>101.92</td>\n",
       "      <td>in-store</td>\n",
       "      <td>EUR</td>\n",
       "      <td>Android</td>\n",
       "      <td>credit_card</td>\n",
       "      <td>1</td>\n",
       "      <td>330</td>\n",
       "      <td>0</td>\n",
       "      <td>0</td>\n",
       "      <td>54.042996</td>\n",
       "      <td>2.168516</td>\n",
       "    </tr>\n",
       "  </tbody>\n",
       "</table>\n",
       "</div>"
      ],
      "text/plain": [
       "  transaction_id           timestamp user_id merchant_id  amount   channel  \\\n",
       "0       TX000000 2022-06-17 23:28:00  U14804       M0314  130.03  in-store   \n",
       "1       TX000001 2022-01-04 15:39:00  U16634       M0675  132.00    online   \n",
       "2       TX000002 2022-09-09 21:58:00  U18005       M0479    8.65    online   \n",
       "3       TX000003 2023-11-20 06:40:00  U13690       M0538   19.82    mobile   \n",
       "4       TX000004 2022-04-28 08:08:00  U04642       M0128  101.92  in-store   \n",
       "\n",
       "  currency   device payment_method  is_international  session_length_seconds  \\\n",
       "0      EUR  Android     debit_card                 1                     145   \n",
       "1      EUR  Android     debit_card                 1                      32   \n",
       "2      EUR  Android    credit_card                 1                     604   \n",
       "3      EUR      iOS    credit_card                 0                    1031   \n",
       "4      EUR  Android    credit_card                 1                     330   \n",
       "\n",
       "   is_first_time_merchant  is_fraud   latitude  longitude  \n",
       "0                       0         0  40.057938  14.959737  \n",
       "1                       1         0  42.059350   1.596625  \n",
       "2                       1         0  50.923432  21.795262  \n",
       "3                       1         0  56.833396  -9.881566  \n",
       "4                       0         0  54.042996   2.168516  "
      ]
     },
     "execution_count": 3,
     "metadata": {},
     "output_type": "execute_result"
    }
   ],
   "source": [
    "# --------- Geo-data feature engineering\n",
    "# Extract latitude and longitude into separate columns\n",
    "df_transactions['latitude'] = df_transactions['location'].apply(lambda x: x['lat'])\n",
    "df_transactions['longitude'] = df_transactions['location'].apply(lambda x: x['long'])\n",
    "df_transactions.drop(columns=['location'], inplace=True)\n",
    "\n",
    "### To Be Continued...\n",
    "\n",
    "df_transactions.head()"
   ]
  },
  {
   "cell_type": "code",
   "execution_count": 4,
   "id": "4c6e9ca5-113a-490e-a4f7-489cf9779feb",
   "metadata": {},
   "outputs": [],
   "source": [
    "df_merged = pd.merge(df_transactions, df_users, on='user_id', how='left')\n",
    "\n",
    "# Then, join the result with df_merchants on merchant_id\n",
    "df_merged = pd.merge(df_merged, df_merchants, on='merchant_id', how='left')\n"
   ]
  },
  {
   "cell_type": "code",
   "execution_count": 5,
   "id": "4be1b340-32c0-48d6-91ad-785c661d6777",
   "metadata": {},
   "outputs": [
    {
     "name": "stderr",
     "output_type": "stream",
     "text": [
      "C:\\Users\\laura\\AppData\\Local\\Temp\\ipykernel_9212\\1917890169.py:4: FutureWarning: Series.view is deprecated and will be removed in a future version. Use ``astype`` as an alternative to change the dtype.\n",
      "  df_merged['signup_timestamp'] = df_merged['signup_date'].view('int64') / 10**9  # Convert to seconds\n"
     ]
    }
   ],
   "source": [
    "\n",
    "df_merged['signup_date'] = pd.to_datetime(df_merged['signup_date'], errors='coerce')\n",
    "\n",
    "# Seconds since 1970\n",
    "df_merged['signup_timestamp'] = df_merged['signup_date'].view('int64') / 10**9  # Convert to seconds\n"
   ]
  },
  {
   "cell_type": "code",
   "execution_count": 6,
   "id": "6db2b4a2",
   "metadata": {},
   "outputs": [],
   "source": [
    "df_merged = df_merged.drop(columns=[\"trust_score\", \"risk_score\"])"
   ]
  },
  {
   "cell_type": "code",
   "execution_count": 64,
   "id": "3bb7ad8a-0c4a-4481-871a-67b3187736c2",
   "metadata": {},
   "outputs": [
    {
     "data": {
      "text/plain": [
       "0         1.627344e+09\n",
       "1         1.589328e+09\n",
       "2         1.728000e+09\n",
       "3         1.626739e+09\n",
       "4         1.633046e+09\n",
       "              ...     \n",
       "499995    1.733875e+09\n",
       "499996    1.617581e+09\n",
       "499997    1.656202e+09\n",
       "499998    1.626134e+09\n",
       "499999    1.647475e+09\n",
       "Name: signup_timestamp, Length: 500000, dtype: float64"
      ]
     },
     "execution_count": 64,
     "metadata": {},
     "output_type": "execute_result"
    }
   ],
   "source": [
    "df_merged['signup_timestamp']"
   ]
  },
  {
   "cell_type": "code",
   "execution_count": 7,
   "id": "dc790fb5-4898-4f4b-a437-14f9b5b1c0c9",
   "metadata": {},
   "outputs": [
    {
     "name": "stdout",
     "output_type": "stream",
     "text": [
      "<class 'pandas.core.frame.DataFrame'>\n",
      "RangeIndex: 500000 entries, 0 to 499999\n",
      "Data columns (total 30 columns):\n",
      " #   Column                          Non-Null Count   Dtype         \n",
      "---  ------                          --------------   -----         \n",
      " 0   transaction_id                  500000 non-null  object        \n",
      " 1   timestamp                       500000 non-null  datetime64[ns]\n",
      " 2   user_id                         500000 non-null  object        \n",
      " 3   merchant_id                     500000 non-null  object        \n",
      " 4   amount                          500000 non-null  float64       \n",
      " 5   channel                         500000 non-null  object        \n",
      " 6   currency                        500000 non-null  object        \n",
      " 7   device                          500000 non-null  object        \n",
      " 8   payment_method                  500000 non-null  object        \n",
      " 9   is_international                500000 non-null  int64         \n",
      " 10  session_length_seconds          500000 non-null  int64         \n",
      " 11  is_first_time_merchant          500000 non-null  int64         \n",
      " 12  is_fraud                        500000 non-null  int64         \n",
      " 13  latitude                        500000 non-null  float64       \n",
      " 14  longitude                       500000 non-null  float64       \n",
      " 15  age                             500000 non-null  int64         \n",
      " 16  sex                             500000 non-null  object        \n",
      " 17  education                       403434 non-null  object        \n",
      " 18  primary_source_of_income        500000 non-null  object        \n",
      " 19  sum_of_monthly_installments     500000 non-null  float64       \n",
      " 20  sum_of_monthly_expenses         500000 non-null  float64       \n",
      " 21  country_x                       500000 non-null  object        \n",
      " 22  signup_date                     500000 non-null  datetime64[ns]\n",
      " 23  category                        500000 non-null  object        \n",
      " 24  country_y                       500000 non-null  object        \n",
      " 25  number_of_alerts_last_6_months  500000 non-null  int64         \n",
      " 26  avg_transaction_amount          500000 non-null  float64       \n",
      " 27  account_age_months              500000 non-null  int64         \n",
      " 28  has_fraud_history               500000 non-null  int64         \n",
      " 29  signup_timestamp                500000 non-null  float64       \n",
      "dtypes: datetime64[ns](2), float64(7), int64(8), object(13)\n",
      "memory usage: 114.4+ MB\n"
     ]
    }
   ],
   "source": [
    "df_merged.info()"
   ]
  },
  {
   "cell_type": "code",
   "execution_count": 8,
   "id": "e6a4a930-b54f-456d-928c-c00ddda21892",
   "metadata": {},
   "outputs": [
    {
     "data": {
      "text/plain": [
       "Index(['transaction_id', 'timestamp', 'user_id', 'merchant_id', 'amount',\n",
       "       'channel', 'currency', 'device', 'payment_method', 'is_international',\n",
       "       'session_length_seconds', 'is_first_time_merchant', 'is_fraud',\n",
       "       'latitude', 'longitude', 'age', 'sex', 'education',\n",
       "       'primary_source_of_income', 'sum_of_monthly_installments',\n",
       "       'sum_of_monthly_expenses', 'country_x', 'signup_date', 'category',\n",
       "       'country_y', 'number_of_alerts_last_6_months', 'avg_transaction_amount',\n",
       "       'account_age_months', 'has_fraud_history', 'signup_timestamp'],\n",
       "      dtype='object')"
      ]
     },
     "execution_count": 8,
     "metadata": {},
     "output_type": "execute_result"
    }
   ],
   "source": [
    "df_merged.columns"
   ]
  },
  {
   "cell_type": "code",
   "execution_count": 9,
   "id": "354f0848-6e34-4dab-bcff-cb962c0583df",
   "metadata": {},
   "outputs": [],
   "source": [
    "cols_to_drop = ['transaction_id','user_id','timestamp','merchant_id','signup_date']"
   ]
  },
  {
   "cell_type": "code",
   "execution_count": 10,
   "id": "f8ca3fa6-1471-410f-972a-5c9611735022",
   "metadata": {},
   "outputs": [],
   "source": [
    "df_merged = df_merged.drop(columns=cols_to_drop)"
   ]
  },
  {
   "cell_type": "code",
   "execution_count": 11,
   "id": "1316dc20-d9a6-4cf5-be56-1690f8e4089c",
   "metadata": {},
   "outputs": [],
   "source": [
    "from sklearn.model_selection import train_test_split"
   ]
  },
  {
   "cell_type": "code",
   "execution_count": 12,
   "id": "8ed701fa-0cbc-4a83-b37b-e14774440509",
   "metadata": {},
   "outputs": [],
   "source": [
    "X = df_merged.drop('is_fraud',axis=1)\n",
    "y = df_merged['is_fraud']\n",
    "\n",
    "X_train, X_test, y_train, y_test = train_test_split(X, y, test_size=0.3, random_state=42)"
   ]
  },
  {
   "cell_type": "code",
   "execution_count": 13,
   "id": "f9c28dc2-8719-4b5c-9943-01c7992571f3",
   "metadata": {},
   "outputs": [
    {
     "data": {
      "text/plain": [
       "Index(['amount', 'channel', 'currency', 'device', 'payment_method',\n",
       "       'is_international', 'session_length_seconds', 'is_first_time_merchant',\n",
       "       'is_fraud', 'latitude', 'longitude', 'age', 'sex', 'education',\n",
       "       'primary_source_of_income', 'sum_of_monthly_installments',\n",
       "       'sum_of_monthly_expenses', 'country_x', 'category', 'country_y',\n",
       "       'number_of_alerts_last_6_months', 'avg_transaction_amount',\n",
       "       'account_age_months', 'has_fraud_history', 'signup_timestamp'],\n",
       "      dtype='object')"
      ]
     },
     "execution_count": 13,
     "metadata": {},
     "output_type": "execute_result"
    }
   ],
   "source": [
    "df_merged.columns"
   ]
  },
  {
   "cell_type": "code",
   "execution_count": 72,
   "id": "744bf32d-9ff8-432e-86b5-09886954484b",
   "metadata": {},
   "outputs": [
    {
     "name": "stdout",
     "output_type": "stream",
     "text": [
      "<class 'pandas.core.frame.DataFrame'>\n",
      "RangeIndex: 500000 entries, 0 to 499999\n",
      "Data columns (total 33 columns):\n",
      " #   Column                          Non-Null Count   Dtype  \n",
      "---  ------                          --------------   -----  \n",
      " 0   amount                          500000 non-null  float64\n",
      " 1   channel                         500000 non-null  object \n",
      " 2   currency                        500000 non-null  object \n",
      " 3   device                          500000 non-null  object \n",
      " 4   payment_method                  500000 non-null  object \n",
      " 5   is_international                500000 non-null  int64  \n",
      " 6   session_length_seconds          500000 non-null  int64  \n",
      " 7   is_first_time_merchant          500000 non-null  int64  \n",
      " 8   is_fraud                        500000 non-null  int64  \n",
      " 9   hour                            500000 non-null  int32  \n",
      " 10  day_of_week                     500000 non-null  int32  \n",
      " 11  is_weekend                      500000 non-null  bool   \n",
      " 12  month                           500000 non-null  int32  \n",
      " 13  time_since_last_user_txn        480000 non-null  float64\n",
      " 14  time_since_last_merchant_txn    499000 non-null  float64\n",
      " 15  latitude                        500000 non-null  float64\n",
      " 16  longitude                       500000 non-null  float64\n",
      " 17  age                             500000 non-null  int64  \n",
      " 18  sex                             500000 non-null  object \n",
      " 19  education                       403434 non-null  object \n",
      " 20  primary_source_of_income        500000 non-null  object \n",
      " 21  sum_of_monthly_installments     500000 non-null  float64\n",
      " 22  sum_of_monthly_expenses         500000 non-null  float64\n",
      " 23  country_x                       500000 non-null  object \n",
      " 24  risk_score                      500000 non-null  float64\n",
      " 25  category                        500000 non-null  object \n",
      " 26  country_y                       500000 non-null  object \n",
      " 27  trust_score                     500000 non-null  float64\n",
      " 28  number_of_alerts_last_6_months  500000 non-null  int64  \n",
      " 29  avg_transaction_amount          500000 non-null  float64\n",
      " 30  account_age_months              500000 non-null  int64  \n",
      " 31  has_fraud_history               500000 non-null  int64  \n",
      " 32  signup_timestamp                500000 non-null  float64\n",
      "dtypes: bool(1), float64(11), int32(3), int64(8), object(10)\n",
      "memory usage: 116.8+ MB\n"
     ]
    }
   ],
   "source": [
    "df_merged.info()"
   ]
  },
  {
   "cell_type": "code",
   "execution_count": 14,
   "id": "6c68fd51-bed0-4a96-a3cf-dcb8855a46b6",
   "metadata": {},
   "outputs": [],
   "source": [
    "categorical_columns = ['channel','currency','device', 'payment_method', 'sex', 'education', 'primary_source_of_income','country_x','country_y','category']"
   ]
  },
  {
   "cell_type": "code",
   "execution_count": 15,
   "id": "6ecd21ca-3c00-40be-9bbe-928b38a4a36b",
   "metadata": {},
   "outputs": [
    {
     "name": "stdout",
     "output_type": "stream",
     "text": [
      "Accuracy: 0.5696666666666667\n",
      "Confusion Matrix:\n",
      " [[78941 58131]\n",
      " [ 6419  6509]]\n",
      "Classification Report:\n",
      "               precision    recall  f1-score   support\n",
      "\n",
      "           0       0.92      0.58      0.71    137072\n",
      "           1       0.10      0.50      0.17     12928\n",
      "\n",
      "    accuracy                           0.57    150000\n",
      "   macro avg       0.51      0.54      0.44    150000\n",
      "weighted avg       0.85      0.57      0.66    150000\n",
      "\n"
     ]
    }
   ],
   "source": [
    "import xgboost as xgb\n",
    "from sklearn.metrics import accuracy_score, confusion_matrix, classification_report\n",
    "from sklearn.model_selection import train_test_split\n",
    "from sklearn.preprocessing import LabelEncoder\n",
    "from sklearn.utils.class_weight import compute_class_weight\n",
    "import numpy as np\n",
    "\n",
    "\n",
    "for col in categorical_columns:\n",
    "    le = LabelEncoder()\n",
    "    X_train[col] = le.fit_transform(X_train[col])\n",
    "    X_test[col] = le.transform(X_test[col])\n",
    "\n",
    "\n",
    "class_weights = compute_class_weight('balanced', classes=np.unique(y_train), y=y_train)\n",
    "class_weight_dict = dict(zip(np.unique(y_train), class_weights))\n",
    "scale_pos_weight = class_weight_dict[1] / class_weight_dict[0]  \n",
    "\n",
    "\n",
    "dtrain = xgb.DMatrix(X_train, label=y_train)\n",
    "dtest = xgb.DMatrix(X_test, label=y_test)\n",
    "\n",
    "\n",
    "params = {\n",
    "    'objective': 'binary:logistic',  \n",
    "    'eval_metric': 'logloss',        \n",
    "    'eta': 0.1,                      \n",
    "    'max_depth': 6,                   \n",
    "    'subsample': 0.8,                 \n",
    "    'colsample_bytree': 0.8,         \n",
    "    'scale_pos_weight': scale_pos_weight  \n",
    "}\n",
    "\n",
    "num_round = 100  \n",
    "bst = xgb.train(params, dtrain, num_round)\n",
    "\n",
    "\n",
    "y_pred_prob = bst.predict(dtest)\n",
    "y_pred = (y_pred_prob > 0.5).astype(int)  # Convert probabilities to binary predictions\n",
    "\n",
    "\n",
    "print(\"Accuracy:\", accuracy_score(y_test, y_pred))\n",
    "print(\"Confusion Matrix:\\n\", confusion_matrix(y_test, y_pred))\n",
    "print(\"Classification Report:\\n\", classification_report(y_test, y_pred))"
   ]
  },
  {
   "cell_type": "code",
   "execution_count": 16,
   "id": "b6d1fbc0-48a7-4bbd-9890-398fcd2cc018",
   "metadata": {},
   "outputs": [
    {
     "name": "stdout",
     "output_type": "stream",
     "text": [
      "Feature Importance (using weight):\n",
      "{'amount': 441.0, 'channel': 63.0, 'device': 54.0, 'payment_method': 67.0, 'is_international': 47.0, 'session_length_seconds': 547.0, 'is_first_time_merchant': 34.0, 'latitude': 481.0, 'longitude': 476.0, 'age': 357.0, 'sex': 52.0, 'education': 85.0, 'primary_source_of_income': 115.0, 'sum_of_monthly_installments': 446.0, 'sum_of_monthly_expenses': 469.0, 'country_x': 175.0, 'category': 113.0, 'country_y': 158.0, 'number_of_alerts_last_6_months': 128.0, 'avg_transaction_amount': 396.0, 'account_age_months': 404.0, 'has_fraud_history': 45.0, 'signup_timestamp': 475.0}\n"
     ]
    },
    {
     "data": {
      "image/png": "[encoded data removed]",
      "text/plain": [
       "<Figure size 640x480 with 1 Axes>"
      ]
     },
     "metadata": {},
     "output_type": "display_data"
    }
   ],
   "source": [
    "importance = bst.get_score(importance_type='weight')  \n",
    "\n",
    "\n",
    "print(\"Feature Importance (using weight):\")\n",
    "print(importance)\n",
    "\n",
    "\n",
    "xgb.plot_importance(bst, importance_type='weight') \n",
    "plt.show()"
   ]
  },
  {
   "cell_type": "markdown",
   "id": "47d05d5d-82cd-407a-9074-d39bbc6eefd8",
   "metadata": {},
   "source": [
    "### Everything time related important as fuck, geolocation also"
   ]
  },
  {
   "cell_type": "code",
   "execution_count": null,
   "id": "ff8d8529-69bc-4a50-b57b-5e1fe8e71ee7",
   "metadata": {},
   "outputs": [],
   "source": []
  }
 ],
 "metadata": {
  "kernelspec": {
   "display_name": "hackaton-sgh",
   "language": "python",
   "name": "python3"
  },
  "language_info": {
   "codemirror_mode": {
    "name": "ipython",
    "version": 3
   },
   "file_extension": ".py",
   "mimetype": "text/x-python",
   "name": "python",
   "nbconvert_exporter": "python",
   "pygments_lexer": "ipython3",
   "version": "3.9.13"
  }
 },
 "nbformat": 4,
 "nbformat_minor": 5
}
