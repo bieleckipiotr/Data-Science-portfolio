{
 "cells": [
  {
   "cell_type": "code",
   "execution_count": 1,
   "metadata": {},
   "outputs": [
    {
     "name": "stderr",
     "output_type": "stream",
     "text": [
      "25/01/04 00:02:49 WARN Utils: Your hostname, hadoop resolves to a loopback address: 127.0.1.1; using 10.0.2.15 instead (on interface enp0s3)\n",
      "25/01/04 00:02:49 WARN Utils: Set SPARK_LOCAL_IP if you need to bind to another address\n",
      "Setting default log level to \"WARN\".\n",
      "To adjust logging level use sc.setLogLevel(newLevel). For SparkR, use setLogLevel(newLevel).\n",
      "25/01/04 00:03:05 WARN NativeCodeLoader: Unable to load native-hadoop library for your platform... using builtin-java classes where applicable\n"
     ]
    }
   ],
   "source": [
    "from pyspark.sql import SparkSession\n",
    "from pyspark.sql.functions import col, explode, to_date, count\n",
    "from cassandra.cluster import Cluster\n",
    "\n",
    "# Initialize Spark Session\n",
    "spark = SparkSession.builder \\\n",
    "    .appName(\"NewsAggregation\") \\\n",
    "    .config(\"spark.hadoop.fs.defaultFS\", \"hdfs://localhost:9000\")\\\n",
    "    .config(\"spark.sql.legacy.timeParserPolicy\", \"LEGACY\") \\\n",
    "    .getOrCreate()"
   ]
  },
  {
   "cell_type": "code",
   "execution_count": 12,
   "metadata": {},
   "outputs": [
    {
     "name": "stderr",
     "output_type": "stream",
     "text": [
      "                                                                                \r"
     ]
    }
   ],
   "source": [
    "yfinance_silver_path = \"/user/adam_majczyk2001/nifi/silver_parquet/yfinance/\"\n",
    "news_silver_path = \"/user/adam_majczyk2001/nifi/silver_parquet/news/\"\n",
    "\n",
    "yfinance_df = spark.read.parquet(yfinance_silver_path)\n",
    "news_df = spark.read.parquet(news_silver_path)"
   ]
  },
  {
   "cell_type": "code",
   "execution_count": 3,
   "metadata": {},
   "outputs": [],
   "source": [
    "# Convert `datetime` to `DATE`\n",
    "news_df = news_df.withColumn(\"aggregation_date\", to_date(col(\"datetime\"), \"yyyy-MM-dd\"))\n",
    "\n",
    "# Aggregate news data for `aggregated_news`\n",
    "aggregated_news_df = news_df.groupBy(\n",
    "    col(\"aggregation_date\"), col(\"source_site\").alias(\"symbol\")\n",
    ").agg(\n",
    "    count(\"title\").alias(\"total_articles\")\n",
    ")\n",
    "\n",
    "# Extract keywords and aggregate for `aggregated_keywords`\n",
    "keywords_df = news_df.select(\n",
    "    col(\"aggregation_date\"),\n",
    "    col(\"source_site\").alias(\"symbol\"),\n",
    "    explode(col(\"keywords\")).alias(\"keyword\")\n",
    ").groupBy(\"symbol\", \"aggregation_date\", \"keyword\").count()"
   ]
  },
  {
   "cell_type": "code",
   "execution_count": 5,
   "metadata": {},
   "outputs": [
    {
     "name": "stderr",
     "output_type": "stream",
     "text": [
      "                                                                                \r"
     ]
    },
    {
     "name": "stdout",
     "output_type": "stream",
     "text": [
      "+----------------+------------------+--------------+\n",
      "|aggregation_date|            symbol|total_articles|\n",
      "+----------------+------------------+--------------+\n",
      "|      2024-12-30|            wnp.pl|            17|\n",
      "|      2024-12-18|wysokienapiecie.pl|             2|\n",
      "|      2024-12-15|wysokienapiecie.pl|             2|\n",
      "|      2024-11-29|wysokienapiecie.pl|             2|\n",
      "|      2024-11-26|            wnp.pl|            31|\n",
      "|      2024-12-30|          beurs.nl|            22|\n",
      "|      2024-11-30|            wnp.pl|             7|\n",
      "|      2024-11-27|            wnp.pl|            33|\n",
      "|      2024-12-17|            wnp.pl|             1|\n",
      "|      2024-12-24|            wnp.pl|            13|\n",
      "|      2024-11-23|            wnp.pl|             6|\n",
      "|      2024-11-28|          beurs.nl|            28|\n",
      "|      2024-10-23|wysokienapiecie.pl|             1|\n",
      "|      2024-12-31|wysokienapiecie.pl|             1|\n",
      "|      2024-10-15|wysokienapiecie.pl|             1|\n",
      "|      2024-09-26|wysokienapiecie.pl|             1|\n",
      "|      2024-12-26|            wnp.pl|             8|\n",
      "|      2024-11-29|            wnp.pl|            28|\n",
      "|      2024-11-21|            wnp.pl|            32|\n",
      "|      2025-01-01|            wnp.pl|             9|\n",
      "+----------------+------------------+--------------+\n",
      "only showing top 20 rows\n",
      "\n"
     ]
    }
   ],
   "source": [
    "aggregated_news_df.show()"
   ]
  },
  {
   "cell_type": "code",
   "execution_count": 6,
   "metadata": {},
   "outputs": [
    {
     "name": "stderr",
     "output_type": "stream",
     "text": [
      "                                                                                \r"
     ]
    },
    {
     "name": "stdout",
     "output_type": "stream",
     "text": [
      "+------------------+----------------+--------------------+-----+\n",
      "|            symbol|aggregation_date|             keyword|count|\n",
      "+------------------+----------------+--------------------+-----+\n",
      "|            wnp.pl|      2024-12-30|             UKRAINA|    3|\n",
      "|            wnp.pl|      2024-11-29|               UMOWY|    1|\n",
      "|            wnp.pl|      2024-11-28|POLSKA GRUPA GÓRN...|    2|\n",
      "|            wnp.pl|      2024-11-19|      MUSIAŁEK PAWEŁ|    1|\n",
      "|            wnp.pl|      2024-11-27|     PRODUKCJA STALI|    1|\n",
      "|            wnp.pl|      2024-11-23|      FARMY WIATROWE|    1|\n",
      "|            wnp.pl|      2024-11-25|            GUZ ADAM|    1|\n",
      "|            wnp.pl|      2024-11-26| ELEKTROWNIA ŁAZISKA|    1|\n",
      "|wysokienapiecie.pl|      2024-12-21|TESTY SAMOCHODÓW ...|    1|\n",
      "|            wnp.pl|      2024-11-28|            WÄRTSILÄ|    1|\n",
      "|            wnp.pl|      2024-11-26|     PGE DYSTRYBUCJA|    1|\n",
      "|            wnp.pl|      2025-01-02|          PREZES URE|    1|\n",
      "|            wnp.pl|      2024-12-13|         BLOK PAROWY|    1|\n",
      "|            wnp.pl|      2024-11-19|    ATLANTIC COUNCIL|    1|\n",
      "|            wnp.pl|      2024-12-27|                 OZE|    2|\n",
      "|            wnp.pl|      2024-11-19|      DZWONEK ADRIAN|    1|\n",
      "|            wnp.pl|      2024-12-26|       DOSTAWY PRĄDU|    1|\n",
      "|            wnp.pl|      2024-11-21|                PRĄD|    1|\n",
      "|            wnp.pl|      2024-12-27|             FRANCJA|    1|\n",
      "|            wnp.pl|      2024-11-19|        MÓJ ELEKTRYK|    1|\n",
      "+------------------+----------------+--------------------+-----+\n",
      "only showing top 20 rows\n",
      "\n"
     ]
    }
   ],
   "source": [
    "keywords_df.show()"
   ]
  },
  {
   "cell_type": "code",
   "execution_count": null,
   "metadata": {},
   "outputs": [],
   "source": [
    "cluster = Cluster(['127.0.0.1'])\n",
    "session = cluster.connect()\n",
    "session.set_keyspace('gold_layer')"
   ]
  },
  {
   "cell_type": "code",
   "execution_count": 8,
   "metadata": {},
   "outputs": [
    {
     "name": "stderr",
     "output_type": "stream",
     "text": [
      "                                                                                \r"
     ]
    },
    {
     "name": "stdout",
     "output_type": "stream",
     "text": [
      "News data aggregated and stored.\n"
     ]
    }
   ],
   "source": [
    "# Insert data into `aggregated_news`\n",
    "for row in aggregated_news_df.collect():\n",
    "    session.execute(\"\"\"\n",
    "        INSERT INTO aggregated_news (symbol, aggregation_date, total_articles)\n",
    "        VALUES (%s, %s, %s)\n",
    "    \"\"\", (row['symbol'], row['aggregation_date'], row['total_articles']))\n",
    "\n",
    "# Insert data into `aggregated_keywords`\n",
    "for row in keywords_df.collect():\n",
    "    session.execute(\"\"\"\n",
    "        INSERT INTO aggregated_keywords (symbol, aggregation_date, keyword, count)\n",
    "        VALUES (%s, %s, %s, %s)\n",
    "    \"\"\", (row['symbol'], row['aggregation_date'], row['keyword'], row['count']))\n",
    "\n",
    "print(\"News data aggregated and stored.\")"
   ]
  },
  {
   "cell_type": "code",
   "execution_count": 13,
   "metadata": {},
   "outputs": [],
   "source": [
    "from pyspark.sql.functions import col, to_date, avg, max, min\n",
    "\n",
    "# Convert `record_timestamp` to `DATE`\n",
    "yfinance_df = yfinance_df.withColumn(\"aggregation_date\", to_date(col(\"record_timestamp\"), \"yyyy-MM-dd\"))\n",
    "\n",
    "# Aggregate financial data\n",
    "aggregated_yfinance_df = yfinance_df.groupBy(\n",
    "    col(\"company\").alias(\"symbol\"), col(\"aggregation_date\")\n",
    ").agg(\n",
    "    avg(\"price\").alias(\"avg_price\"),\n",
    "    max(\"price\").alias(\"max_price\"),\n",
    "    min(\"price\").alias(\"min_price\"),\n",
    "    avg(\"volume\").alias(\"avg_volume\"),\n",
    "    avg(\"volatility\").alias(\"avg_volatility\"),\n",
    "    avg(\"market_sentiment\").alias(\"avg_sentiment\")\n",
    ")"
   ]
  },
  {
   "cell_type": "code",
   "execution_count": 14,
   "metadata": {},
   "outputs": [
    {
     "name": "stderr",
     "output_type": "stream",
     "text": [
      "                                                                                \r"
     ]
    },
    {
     "name": "stdout",
     "output_type": "stream",
     "text": [
      "+------+----------------+------------------+---------+---------+--------------------+------------------+--------------------+\n",
      "|symbol|aggregation_date|         avg_price|max_price|min_price|          avg_volume|    avg_volatility|       avg_sentiment|\n",
      "+------+----------------+------------------+---------+---------+--------------------+------------------+--------------------+\n",
      "|   COP|      2025-01-01| 99.21789594338686|   110.58|    90.43|  3680355.0649855477|0.7912754908800959|-0.01815658327519184|\n",
      "|   XOM|      2024-11-30|117.80880518059092|   127.83|   107.42|   5214347.396023349| 0.939963516964611|-0.08147537395111269|\n",
      "|   COP|      2024-11-30|108.46727927595126|   116.13|   100.69|  3893415.0428518658| 0.786200960472848|-0.15081473956409325|\n",
      "|   COP|      2024-12-30| 97.15079150768037|    106.9|    86.22|   3153567.389883573| 0.841118188044223| 0.00872605420213288|\n",
      "|    BP|      2024-12-31| 29.28320153815817|    32.15|    26.95|   5353842.821928614|0.7821794517846573|-0.01808104910274...|\n",
      "|   COP|      2024-12-31|  98.2625894882161|   110.59|    89.62|   4001802.964401933| 0.843984123853664|-0.02937935114880194|\n",
      "|   XOM|      2024-12-30|106.28337588788644|   116.58|    94.16|   7399342.136782492|0.8588567863313504| 0.04804521021309272|\n",
      "|  SHEL|      2024-11-26| 64.70964278547058|    71.19|    59.44|   3095563.309753161|0.8245072245635154|-0.00812532610876...|\n",
      "|    BP|      2025-01-03|30.125932912007826|    33.24|    27.77|   5311608.764705882|0.8803970831307726|-1.50218765192037...|\n",
      "|  SHEL|      2024-11-25|  65.7008879659844|    72.58|    59.26|  2564880.3876198954|0.8338957777118564|-0.02806308711559377|\n",
      "|   COP|      2024-11-25|109.78711431411534|   121.34|    99.64|   7561672.503280318|  0.83672773359841| 0.05101819085487081|\n",
      "|    BP|      2024-11-27|29.020379066759507|    31.86|    26.16|  7839595.5279076705|0.8790523331011851| 0.05763744901004869|\n",
      "|   COP|      2024-11-28|107.41037788303133|   118.36|     98.0|  5790175.2712108735|0.8594563426688645|0.021962829489291586|\n",
      "|  SHEL|      2024-12-28|61.395220372184134|    64.94|    59.09|   3270234.581782566|0.7874818805093045|-0.19025954946131243|\n",
      "|  SHEL|      2024-12-30| 61.64409136047658|    66.88|    56.28|  3216434.5553128105|0.8226385302879838| 0.05082363455809335|\n",
      "|  SHEL|      2024-11-24| 65.69190881458964|    70.43|    62.75|  3085137.7258358663|0.8299799392097267|-0.27389787234042556|\n",
      "|    BP|      2024-11-25| 29.52878503730593|     32.3|    27.14|1.1904346769207502E7|0.8729254890098805| -0.0525748134704578|\n",
      "|   XOM|      2024-12-31|106.03287387739162|   115.95|    92.61|   6659383.016204608|0.8278947676688792| 0.04286723935962522|\n",
      "|   COP|      2024-11-26|106.37546721475843|   120.79|    96.17|   9420844.663224384|0.8492941648285544| 0.07277932624824542|\n",
      "|   XOM|      2024-11-25|121.14170921198661|   132.73|   108.89|   7993829.989002119|0.8928900211885779|0.025998890122086612|\n",
      "+------+----------------+------------------+---------+---------+--------------------+------------------+--------------------+\n",
      "only showing top 20 rows\n",
      "\n"
     ]
    }
   ],
   "source": [
    "aggregated_yfinance_df.show()"
   ]
  },
  {
   "cell_type": "code",
   "execution_count": 16,
   "metadata": {},
   "outputs": [
    {
     "name": "stdout",
     "output_type": "stream",
     "text": [
      "YFinance data aggregated and stored.\n"
     ]
    }
   ],
   "source": [
    "# Insert data into `aggregated_yfinance`\n",
    "for row in aggregated_yfinance_df.collect():\n",
    "    session.execute(\"\"\"\n",
    "        INSERT INTO aggregated_yfinance (symbol, aggregation_date, avg_stock_price, max_stock_price, min_stock_price, volume_traded, avg_volatility, avg_sentiment)\n",
    "        VALUES (%s, %s, %s, %s, %s, %s, %s, %s)\n",
    "    \"\"\", (row['symbol'], row['aggregation_date'], row['avg_price'], row['max_price'], row['min_price'], row['avg_volume'], row['avg_volatility'], row['avg_sentiment']))\n",
    "\n",
    "print(\"YFinance data aggregated and stored.\")"
   ]
  },
  {
   "cell_type": "code",
   "execution_count": null,
   "metadata": {},
   "outputs": [],
   "source": [
    "# Stop Spark Session\n",
    "spark.stop()"
   ]
  }
 ],
 "metadata": {
  "kernelspec": {
   "display_name": "cassandra_env_39",
   "language": "python",
   "name": "python3"
  },
  "language_info": {
   "codemirror_mode": {
    "name": "ipython",
    "version": 3
   },
   "file_extension": ".py",
   "mimetype": "text/x-python",
   "name": "python",
   "nbconvert_exporter": "python",
   "pygments_lexer": "ipython3",
   "version": "3.9.21"
  }
 },
 "nbformat": 4,
 "nbformat_minor": 2
}
