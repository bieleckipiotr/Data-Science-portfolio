{
 "cells": [
  {
   "cell_type": "code",
   "execution_count": 1,
   "id": "b9f35be5-19f2-4274-a881-a0688cce8200",
   "metadata": {},
   "outputs": [],
   "source": [
    "import os\n",
    "import pandas as pd\n",
    "import numpy as np\n",
    "import matplotlib.pyplot as plt\n",
    "import seaborn as sns"
   ]
  },
  {
   "cell_type": "code",
   "execution_count": null,
   "id": "1313cfae-9cce-4f4f-83de-e77b65819fbd",
   "metadata": {},
   "outputs": [],
   "source": [
    "df_transactions = pd.read_json('../data/transactions.json', lines=True)\n",
    "df_users = pd.read_csv('../data/users.csv')\n",
    "df_merchants = pd.read_csv('../data/merchants.csv')"
   ]
  },
  {
   "cell_type": "code",
   "execution_count": 3,
   "id": "8f3de894-79c9-4745-880c-1a96cfb832fd",
   "metadata": {},
   "outputs": [],
   "source": [
    "df_merged = pd.merge(df_transactions, df_users, on='user_id', how='left')\n",
    "\n",
    "# Then, join the result with df_merchants on merchant_id\n",
    "df_merged = pd.merge(df_merged, df_merchants, on='merchant_id', how='left')\n"
   ]
  },
  {
   "cell_type": "code",
   "execution_count": 4,
   "id": "f7f9809a-6810-4433-93bf-429273e81ffb",
   "metadata": {},
   "outputs": [],
   "source": [
    "df = df_merged"
   ]
  },
  {
   "cell_type": "code",
   "execution_count": 5,
   "id": "4291b82e-2131-4067-8d40-f5346e198a4e",
   "metadata": {},
   "outputs": [],
   "source": [
    "categorical_cols = [\n",
    "    'channel', 'currency', 'device', 'payment_method', 'category',\n",
    "    'country_x', 'country_y', 'sex', 'education', 'primary_source_of_income'\n",
    "]\n",
    "\n",
    "binary_cols = [\n",
    "    'is_international', 'is_first_time_merchant', 'has_fraud_history'\n",
    "]\n",
    "\n",
    "numerical_cols = [\n",
    "    'amount', 'session_length_seconds', 'age', 'risk_score', 'trust_score',\n",
    "    'number_of_alerts_last_6_months', 'avg_transaction_amount',\n",
    "    'account_age_months', 'sum_of_monthly_expenses', 'sum_of_monthly_installments'\n",
    "]"
   ]
  },
  {
   "cell_type": "code",
   "execution_count": 6,
   "id": "01c7e5c9-9f0c-4b90-a8a0-de7c13e44e64",
   "metadata": {},
   "outputs": [],
   "source": [
    "df['timestamp'] = pd.to_datetime(df['timestamp'])\n",
    "df['signup_date'] = pd.to_datetime(df['signup_date'])\n",
    "\n",
    "# Temporal features\n",
    "df['hour'] = df['timestamp'].dt.hour\n",
    "df['day_of_week'] = df['timestamp'].dt.dayofweek\n",
    "df['days_since_signup'] = (df['timestamp'] - df['signup_date']).dt.total_seconds() / (3600 * 24)\n",
    "\n",
    "numerical_cols += ['hour', 'day_of_week', 'days_since_signup']\n",
    "\n",
    "# Location\n",
    "df['lat'] = df['location'].apply(lambda x: x['lat'] if isinstance(x, dict) else np.nan)\n",
    "df['long'] = df['location'].apply(lambda x: x['long'] if isinstance(x, dict) else np.nan)\n",
    "\n",
    "numerical_cols += ['lat', 'long']"
   ]
  },
  {
   "cell_type": "code",
   "execution_count": 7,
   "id": "1d982d15-fb35-46cc-8d7e-af8c54314354",
   "metadata": {},
   "outputs": [],
   "source": [
    "from sklearn.preprocessing import LabelEncoder, StandardScaler\n",
    "\n",
    "for col in categorical_cols:\n",
    "    df[col] = LabelEncoder().fit_transform(df[col].astype(str))\n",
    "\n",
    "scaler = StandardScaler()\n",
    "df[numerical_cols] = scaler.fit_transform(df[numerical_cols])\n",
    "\n",
    "for col in binary_cols:\n",
    "    df[col] = df[col].astype(int)"
   ]
  },
  {
   "cell_type": "code",
   "execution_count": 8,
   "id": "a1fd2e78-fb5e-4809-b214-a235f36c6b9e",
   "metadata": {},
   "outputs": [],
   "source": [
    "import numpy as np\n",
    "\n",
    "user_column = 'user_id'\n",
    "target_column = 'is_fraud'\n",
    "\n",
    "sequence_length = 10  # This we can fine tune probably down to like 3\n",
    "data_sequences = []\n",
    "labels = []\n",
    "\n",
    "# Padding value \n",
    "padding_value = 0  \n",
    "\n",
    "# Group by the user\n",
    "grouped = df.groupby(user_column)\n",
    "\n",
    "# Loop over each user\n",
    "for user_id, user_data in grouped:\n",
    "    # sort by timestap\n",
    "    user_data = user_data.sort_values(by='timestamp')\n",
    "    \n",
    "    # to np arrays\n",
    "    user_data_values = user_data[numerical_cols].values\n",
    "    \n",
    "    # pad with zeros if too few transactions\n",
    "    if len(user_data) < sequence_length:\n",
    "        \n",
    "        pad_length = sequence_length - len(user_data)\n",
    "        padding = np.full((pad_length, len(numerical_cols)), padding_value)  # Pad with zeros or np.nan\n",
    "        user_data_values = np.vstack([padding, user_data_values])  # Add padding at the beginning\n",
    "    \n",
    "    # Generate sequences \n",
    "    for i in range(sequence_length, len(user_data_values)):\n",
    "        data_sequences.append(user_data_values[i-sequence_length:i])  # Create sequence\n",
    "        labels.append(user_data[target_column].iloc[i])  # Append corresponding label\n",
    "\n",
    "# Convert to np arrays\n",
    "data_sequences = np.array(data_sequences)\n",
    "labels = np.array(labels)\n",
    "\n"
   ]
  },
  {
   "cell_type": "code",
   "execution_count": 9,
   "id": "a54002f5-67ff-4939-9095-535b3197b182",
   "metadata": {},
   "outputs": [],
   "source": [
    "from sklearn.model_selection import train_test_split\n",
    "\n",
    "X_train, X_test, y_train, y_test = train_test_split(data_sequences, labels, test_size=0.2, random_state=42)\n"
   ]
  },
  {
   "cell_type": "code",
   "execution_count": 15,
   "id": "35326783-b39d-4c5f-a278-16265c28498b",
   "metadata": {},
   "outputs": [
    {
     "name": "stderr",
     "output_type": "stream",
     "text": [
      "C:\\Users\\antek\\anaconda\\Lib\\site-packages\\keras\\src\\layers\\rnn\\rnn.py:200: UserWarning: Do not pass an `input_shape`/`input_dim` argument to a layer. When using Sequential models, prefer using an `Input(shape)` object as the first layer in the model instead.\n",
      "  super().__init__(**kwargs)\n"
     ]
    }
   ],
   "source": [
    "import tensorflow as tf\n",
    "from tensorflow.keras.models import Sequential\n",
    "from tensorflow.keras.layers import SimpleRNN, Dense, Dropout\n",
    "from tensorflow.keras.metrics import AUC\n",
    "# Define RNN Model\n",
    "model = Sequential()\n",
    "\n",
    "# Adding RNN Layer(s)\n",
    "model.add(SimpleRNN(units=64, return_sequences=True, input_shape=(X_train.shape[1], X_train.shape[2])))\n",
    "model.add(Dropout(0.2))  # Adding dropout for regularization\n",
    "\n",
    "model.add(SimpleRNN(units=32))\n",
    "model.add(Dropout(0.2))\n",
    "\n",
    "# Output Layer\n",
    "model.add(Dense(1, activation='sigmoid'))  \n",
    "\n",
    "# Compile the model with AUC metric\n",
    "model.compile(\n",
    "    optimizer='adam', \n",
    "    loss='binary_crossentropy', \n",
    "    metrics=[\n",
    "        'accuracy',\n",
    "        AUC(name='auc'),  # Training AUC\n",
    "        AUC(name='val_auc', from_logits=False)  # Validation AUC\n",
    "    ]\n",
    ")\n"
   ]
  },
  {
   "cell_type": "code",
   "execution_count": 16,
   "id": "cd5f5d6c-5df1-4640-8755-a2450054b23a",
   "metadata": {},
   "outputs": [],
   "source": [
    "from tensorflow.keras.callbacks import EarlyStopping, ReduceLROnPlateau\n",
    "\n",
    "early_stopping = EarlyStopping(\n",
    "    monitor='val_loss',  \n",
    "    patience=10,         \n",
    "    restore_best_weights=True \n",
    ")\n",
    "\n",
    "reduce_lr = ReduceLROnPlateau(\n",
    "    monitor='val_loss',  \n",
    "    factor=0.1,         \n",
    "    patience=5,         \n",
    "    min_lr=1e-6         \n",
    ")"
   ]
  },
  {
   "cell_type": "code",
   "execution_count": 17,
   "id": "c81ec5cf-7686-4dab-8621-23aa608033b6",
   "metadata": {},
   "outputs": [
    {
     "name": "stdout",
     "output_type": "stream",
     "text": [
      "Epoch 1/50\n",
      "\u001b[1m3751/3751\u001b[0m \u001b[32m━━━━━━━━━━━━━━━━━━━━\u001b[0m\u001b[37m\u001b[0m \u001b[1m13s\u001b[0m 3ms/step - accuracy: 0.5064 - auc: 0.5046 - loss: 0.7147 - val_auc: 0.5046 - val_accuracy: 0.4849 - val_loss: 0.6988 - val_val_auc: 0.5183\n",
      "Epoch 2/50\n",
      "\u001b[1m3751/3751\u001b[0m \u001b[32m━━━━━━━━━━━━━━━━━━━━\u001b[0m\u001b[37m\u001b[0m \u001b[1m11s\u001b[0m 3ms/step - accuracy: 0.4942 - auc: 0.5239 - loss: 0.6952 - val_auc: 0.5239 - val_accuracy: 0.5044 - val_loss: 0.6893 - val_val_auc: 0.5155\n",
      "Epoch 3/50\n",
      "\u001b[1m3751/3751\u001b[0m \u001b[32m━━━━━━━━━━━━━━━━━━━━\u001b[0m\u001b[37m\u001b[0m \u001b[1m11s\u001b[0m 3ms/step - accuracy: 0.5163 - auc: 0.5203 - loss: 0.6942 - val_auc: 0.5203 - val_accuracy: 0.5561 - val_loss: 0.6874 - val_val_auc: 0.5150\n",
      "Epoch 4/50\n",
      "\u001b[1m3751/3751\u001b[0m \u001b[32m━━━━━━━━━━━━━━━━━━━━\u001b[0m\u001b[37m\u001b[0m \u001b[1m11s\u001b[0m 3ms/step - accuracy: 0.5332 - auc: 0.5174 - loss: 0.6908 - val_auc: 0.5174 - val_accuracy: 0.4893 - val_loss: 0.7027 - val_val_auc: 0.5156\n",
      "Epoch 5/50\n",
      "\u001b[1m3751/3751\u001b[0m \u001b[32m━━━━━━━━━━━━━━━━━━━━\u001b[0m\u001b[37m\u001b[0m \u001b[1m11s\u001b[0m 3ms/step - accuracy: 0.5155 - auc: 0.5201 - loss: 0.6913 - val_auc: 0.5201 - val_accuracy: 0.5018 - val_loss: 0.6985 - val_val_auc: 0.5095\n",
      "Epoch 6/50\n",
      "\u001b[1m3751/3751\u001b[0m \u001b[32m━━━━━━━━━━━━━━━━━━━━\u001b[0m\u001b[37m\u001b[0m \u001b[1m11s\u001b[0m 3ms/step - accuracy: 0.4962 - auc: 0.5185 - loss: 0.6936 - val_auc: 0.5185 - val_accuracy: 0.5408 - val_loss: 0.6915 - val_val_auc: 0.5158\n",
      "Epoch 7/50\n",
      "\u001b[1m3751/3751\u001b[0m \u001b[32m━━━━━━━━━━━━━━━━━━━━\u001b[0m\u001b[37m\u001b[0m \u001b[1m11s\u001b[0m 3ms/step - accuracy: 0.5192 - auc: 0.5221 - loss: 0.6936 - val_auc: 0.5220 - val_accuracy: 0.5336 - val_loss: 0.6915 - val_val_auc: 0.5170\n",
      "Epoch 8/50\n",
      "\u001b[1m3751/3751\u001b[0m \u001b[32m━━━━━━━━━━━━━━━━━━━━\u001b[0m\u001b[37m\u001b[0m \u001b[1m11s\u001b[0m 3ms/step - accuracy: 0.5086 - auc: 0.5148 - loss: 0.6927 - val_auc: 0.5148 - val_accuracy: 0.3899 - val_loss: 0.7002 - val_val_auc: 0.5045\n",
      "Epoch 9/50\n",
      "\u001b[1m3751/3751\u001b[0m \u001b[32m━━━━━━━━━━━━━━━━━━━━\u001b[0m\u001b[37m\u001b[0m \u001b[1m11s\u001b[0m 3ms/step - accuracy: 0.5063 - auc: 0.5233 - loss: 0.6936 - val_auc: 0.5233 - val_accuracy: 0.6632 - val_loss: 0.6851 - val_val_auc: 0.5141\n",
      "Epoch 10/50\n",
      "\u001b[1m3751/3751\u001b[0m \u001b[32m━━━━━━━━━━━━━━━━━━━━\u001b[0m\u001b[37m\u001b[0m \u001b[1m11s\u001b[0m 3ms/step - accuracy: 0.5097 - auc: 0.5177 - loss: 0.6952 - val_auc: 0.5177 - val_accuracy: 0.4939 - val_loss: 0.6935 - val_val_auc: 0.4899\n",
      "Epoch 11/50\n",
      "\u001b[1m3751/3751\u001b[0m \u001b[32m━━━━━━━━━━━━━━━━━━━━\u001b[0m\u001b[37m\u001b[0m \u001b[1m11s\u001b[0m 3ms/step - accuracy: 0.5142 - auc: 0.5199 - loss: 0.6928 - val_auc: 0.5199 - val_accuracy: 0.5486 - val_loss: 0.6842 - val_val_auc: 0.5202\n",
      "Epoch 12/50\n",
      "\u001b[1m3751/3751\u001b[0m \u001b[32m━━━━━━━━━━━━━━━━━━━━\u001b[0m\u001b[37m\u001b[0m \u001b[1m11s\u001b[0m 3ms/step - accuracy: 0.5374 - auc: 0.5167 - loss: 0.6918 - val_auc: 0.5167 - val_accuracy: 0.4824 - val_loss: 0.7025 - val_val_auc: 0.5192\n",
      "Epoch 13/50\n",
      "\u001b[1m3751/3751\u001b[0m \u001b[32m━━━━━━━━━━━━━━━━━━━━\u001b[0m\u001b[37m\u001b[0m \u001b[1m11s\u001b[0m 3ms/step - accuracy: 0.5036 - auc: 0.5242 - loss: 0.6924 - val_auc: 0.5242 - val_accuracy: 0.5369 - val_loss: 0.6907 - val_val_auc: 0.5210\n",
      "Epoch 14/50\n",
      "\u001b[1m3751/3751\u001b[0m \u001b[32m━━━━━━━━━━━━━━━━━━━━\u001b[0m\u001b[37m\u001b[0m \u001b[1m11s\u001b[0m 3ms/step - accuracy: 0.5018 - auc: 0.5163 - loss: 0.6961 - val_auc: 0.5163 - val_accuracy: 0.5093 - val_loss: 0.6956 - val_val_auc: 0.5185\n",
      "Epoch 15/50\n",
      "\u001b[1m3751/3751\u001b[0m \u001b[32m━━━━━━━━━━━━━━━━━━━━\u001b[0m\u001b[37m\u001b[0m \u001b[1m11s\u001b[0m 3ms/step - accuracy: 0.4854 - auc: 0.5153 - loss: 0.6959 - val_auc: 0.5153 - val_accuracy: 0.6315 - val_loss: 0.6706 - val_val_auc: 0.5159\n",
      "Epoch 16/50\n",
      "\u001b[1m3751/3751\u001b[0m \u001b[32m━━━━━━━━━━━━━━━━━━━━\u001b[0m\u001b[37m\u001b[0m \u001b[1m11s\u001b[0m 3ms/step - accuracy: 0.5274 - auc: 0.5167 - loss: 0.6969 - val_auc: 0.5167 - val_accuracy: 0.5284 - val_loss: 0.6889 - val_val_auc: 0.5168\n",
      "Epoch 17/50\n",
      "\u001b[1m3751/3751\u001b[0m \u001b[32m━━━━━━━━━━━━━━━━━━━━\u001b[0m\u001b[37m\u001b[0m \u001b[1m11s\u001b[0m 3ms/step - accuracy: 0.5067 - auc: 0.5141 - loss: 0.6961 - val_auc: 0.5141 - val_accuracy: 0.5311 - val_loss: 0.6916 - val_val_auc: 0.5206\n",
      "Epoch 18/50\n",
      "\u001b[1m3751/3751\u001b[0m \u001b[32m━━━━━━━━━━━━━━━━━━━━\u001b[0m\u001b[37m\u001b[0m \u001b[1m11s\u001b[0m 3ms/step - accuracy: 0.5444 - auc: 0.5119 - loss: 0.6892 - val_auc: 0.5119 - val_accuracy: 0.4520 - val_loss: 0.6977 - val_val_auc: 0.5147\n",
      "Epoch 19/50\n",
      "\u001b[1m3751/3751\u001b[0m \u001b[32m━━━━━━━━━━━━━━━━━━━━\u001b[0m\u001b[37m\u001b[0m \u001b[1m11s\u001b[0m 3ms/step - accuracy: 0.4903 - auc: 0.5176 - loss: 0.6948 - val_auc: 0.5176 - val_accuracy: 0.6536 - val_loss: 0.6822 - val_val_auc: 0.5168\n",
      "Epoch 20/50\n",
      "\u001b[1m3751/3751\u001b[0m \u001b[32m━━━━━━━━━━━━━━━━━━━━\u001b[0m\u001b[37m\u001b[0m \u001b[1m11s\u001b[0m 3ms/step - accuracy: 0.5239 - auc: 0.5166 - loss: 0.6942 - val_auc: 0.5166 - val_accuracy: 0.4843 - val_loss: 0.6962 - val_val_auc: 0.5087\n",
      "Epoch 21/50\n",
      "\u001b[1m3751/3751\u001b[0m \u001b[32m━━━━━━━━━━━━━━━━━━━━\u001b[0m\u001b[37m\u001b[0m \u001b[1m11s\u001b[0m 3ms/step - accuracy: 0.5097 - auc: 0.5173 - loss: 0.6922 - val_auc: 0.5173 - val_accuracy: 0.5638 - val_loss: 0.6863 - val_val_auc: 0.5134\n",
      "Epoch 22/50\n",
      "\u001b[1m3751/3751\u001b[0m \u001b[32m━━━━━━━━━━━━━━━━━━━━\u001b[0m\u001b[37m\u001b[0m \u001b[1m11s\u001b[0m 3ms/step - accuracy: 0.5260 - auc: 0.5150 - loss: 0.6925 - val_auc: 0.5150 - val_accuracy: 0.5546 - val_loss: 0.6893 - val_val_auc: 0.5186\n",
      "Epoch 23/50\n",
      "\u001b[1m3751/3751\u001b[0m \u001b[32m━━━━━━━━━━━━━━━━━━━━\u001b[0m\u001b[37m\u001b[0m \u001b[1m11s\u001b[0m 3ms/step - accuracy: 0.5018 - auc: 0.5193 - loss: 0.6945 - val_auc: 0.5193 - val_accuracy: 0.5131 - val_loss: 0.6926 - val_val_auc: 0.5095\n",
      "Epoch 24/50\n",
      "\u001b[1m3751/3751\u001b[0m \u001b[32m━━━━━━━━━━━━━━━━━━━━\u001b[0m\u001b[37m\u001b[0m \u001b[1m11s\u001b[0m 3ms/step - accuracy: 0.5155 - auc: 0.5200 - loss: 0.6942 - val_auc: 0.5200 - val_accuracy: 0.4625 - val_loss: 0.6884 - val_val_auc: 0.5176\n",
      "Epoch 25/50\n",
      "\u001b[1m3751/3751\u001b[0m \u001b[32m━━━━━━━━━━━━━━━━━━━━\u001b[0m\u001b[37m\u001b[0m \u001b[1m11s\u001b[0m 3ms/step - accuracy: 0.5110 - auc: 0.5199 - loss: 0.6938 - val_auc: 0.5199 - val_accuracy: 0.5267 - val_loss: 0.6879 - val_val_auc: 0.5163\n",
      "Epoch 26/50\n",
      "\u001b[1m3751/3751\u001b[0m \u001b[32m━━━━━━━━━━━━━━━━━━━━\u001b[0m\u001b[37m\u001b[0m \u001b[1m11s\u001b[0m 3ms/step - accuracy: 0.5415 - auc: 0.5177 - loss: 0.6898 - val_auc: 0.5177 - val_accuracy: 0.5712 - val_loss: 0.6899 - val_val_auc: 0.5125\n",
      "Epoch 27/50\n",
      "\u001b[1m3751/3751\u001b[0m \u001b[32m━━━━━━━━━━━━━━━━━━━━\u001b[0m\u001b[37m\u001b[0m \u001b[1m11s\u001b[0m 3ms/step - accuracy: 0.5000 - auc: 0.5169 - loss: 0.6938 - val_auc: 0.5169 - val_accuracy: 0.4611 - val_loss: 0.7084 - val_val_auc: 0.5075\n",
      "Epoch 28/50\n",
      "\u001b[1m3751/3751\u001b[0m \u001b[32m━━━━━━━━━━━━━━━━━━━━\u001b[0m\u001b[37m\u001b[0m \u001b[1m11s\u001b[0m 3ms/step - accuracy: 0.5074 - auc: 0.5177 - loss: 0.6943 - val_auc: 0.5177 - val_accuracy: 0.4648 - val_loss: 0.7086 - val_val_auc: 0.5183\n",
      "Epoch 29/50\n",
      "\u001b[1m3751/3751\u001b[0m \u001b[32m━━━━━━━━━━━━━━━━━━━━\u001b[0m\u001b[37m\u001b[0m \u001b[1m11s\u001b[0m 3ms/step - accuracy: 0.5047 - auc: 0.5214 - loss: 0.6897 - val_auc: 0.5214 - val_accuracy: 0.4615 - val_loss: 0.6935 - val_val_auc: 0.5171\n",
      "Epoch 30/50\n",
      "\u001b[1m3751/3751\u001b[0m \u001b[32m━━━━━━━━━━━━━━━━━━━━\u001b[0m\u001b[37m\u001b[0m \u001b[1m11s\u001b[0m 3ms/step - accuracy: 0.5197 - auc: 0.5231 - loss: 0.6927 - val_auc: 0.5231 - val_accuracy: 0.5206 - val_loss: 0.6974 - val_val_auc: 0.5192\n",
      "Epoch 31/50\n",
      "\u001b[1m3751/3751\u001b[0m \u001b[32m━━━━━━━━━━━━━━━━━━━━\u001b[0m\u001b[37m\u001b[0m \u001b[1m11s\u001b[0m 3ms/step - accuracy: 0.5313 - auc: 0.5231 - loss: 0.6901 - val_auc: 0.5231 - val_accuracy: 0.4896 - val_loss: 0.6969 - val_val_auc: 0.5188\n",
      "Epoch 32/50\n",
      "\u001b[1m3751/3751\u001b[0m \u001b[32m━━━━━━━━━━━━━━━━━━━━\u001b[0m\u001b[37m\u001b[0m \u001b[1m11s\u001b[0m 3ms/step - accuracy: 0.5336 - auc: 0.5209 - loss: 0.6880 - val_auc: 0.5209 - val_accuracy: 0.4724 - val_loss: 0.7029 - val_val_auc: 0.5152\n",
      "Epoch 33/50\n",
      "\u001b[1m3751/3751\u001b[0m \u001b[32m━━━━━━━━━━━━━━━━━━━━\u001b[0m\u001b[37m\u001b[0m \u001b[1m11s\u001b[0m 3ms/step - accuracy: 0.5000 - auc: 0.5190 - loss: 0.6924 - val_auc: 0.5190 - val_accuracy: 0.4538 - val_loss: 0.7002 - val_val_auc: 0.5044\n",
      "Epoch 34/50\n",
      "\u001b[1m3751/3751\u001b[0m \u001b[32m━━━━━━━━━━━━━━━━━━━━\u001b[0m\u001b[37m\u001b[0m \u001b[1m11s\u001b[0m 3ms/step - accuracy: 0.5184 - auc: 0.5189 - loss: 0.6904 - val_auc: 0.5189 - val_accuracy: 0.4985 - val_loss: 0.6930 - val_val_auc: 0.5192\n",
      "Epoch 35/50\n",
      "\u001b[1m3751/3751\u001b[0m \u001b[32m━━━━━━━━━━━━━━━━━━━━\u001b[0m\u001b[37m\u001b[0m \u001b[1m11s\u001b[0m 3ms/step - accuracy: 0.4990 - auc: 0.5198 - loss: 0.6949 - val_auc: 0.5198 - val_accuracy: 0.4263 - val_loss: 0.7017 - val_val_auc: 0.5193\n",
      "Epoch 36/50\n",
      "\u001b[1m3751/3751\u001b[0m \u001b[32m━━━━━━━━━━━━━━━━━━━━\u001b[0m\u001b[37m\u001b[0m \u001b[1m11s\u001b[0m 3ms/step - accuracy: 0.4902 - auc: 0.5168 - loss: 0.6938 - val_auc: 0.5168 - val_accuracy: 0.5387 - val_loss: 0.6866 - val_val_auc: 0.5220\n",
      "Epoch 37/50\n",
      "\u001b[1m3751/3751\u001b[0m \u001b[32m━━━━━━━━━━━━━━━━━━━━\u001b[0m\u001b[37m\u001b[0m \u001b[1m11s\u001b[0m 3ms/step - accuracy: 0.5336 - auc: 0.5220 - loss: 0.6901 - val_auc: 0.5220 - val_accuracy: 0.5350 - val_loss: 0.6947 - val_val_auc: 0.5152\n",
      "Epoch 38/50\n",
      "\u001b[1m3751/3751\u001b[0m \u001b[32m━━━━━━━━━━━━━━━━━━━━\u001b[0m\u001b[37m\u001b[0m \u001b[1m11s\u001b[0m 3ms/step - accuracy: 0.5348 - auc: 0.5134 - loss: 0.6914 - val_auc: 0.5134 - val_accuracy: 0.4876 - val_loss: 0.7019 - val_val_auc: 0.5129\n",
      "Epoch 39/50\n",
      "\u001b[1m3751/3751\u001b[0m \u001b[32m━━━━━━━━━━━━━━━━━━━━\u001b[0m\u001b[37m\u001b[0m \u001b[1m11s\u001b[0m 3ms/step - accuracy: 0.5164 - auc: 0.5165 - loss: 0.6921 - val_auc: 0.5165 - val_accuracy: 0.4475 - val_loss: 0.7034 - val_val_auc: 0.5189\n",
      "Epoch 40/50\n",
      "\u001b[1m3751/3751\u001b[0m \u001b[32m━━━━━━━━━━━━━━━━━━━━\u001b[0m\u001b[37m\u001b[0m \u001b[1m11s\u001b[0m 3ms/step - accuracy: 0.4761 - auc: 0.5204 - loss: 0.6944 - val_auc: 0.5204 - val_accuracy: 0.6683 - val_loss: 0.6754 - val_val_auc: 0.5192\n",
      "Epoch 41/50\n",
      "\u001b[1m3751/3751\u001b[0m \u001b[32m━━━━━━━━━━━━━━━━━━━━\u001b[0m\u001b[37m\u001b[0m \u001b[1m11s\u001b[0m 3ms/step - accuracy: 0.5637 - auc: 0.5210 - loss: 0.6882 - val_auc: 0.5210 - val_accuracy: 0.4769 - val_loss: 0.7045 - val_val_auc: 0.5151\n",
      "Epoch 42/50\n",
      "\u001b[1m3751/3751\u001b[0m \u001b[32m━━━━━━━━━━━━━━━━━━━━\u001b[0m\u001b[37m\u001b[0m \u001b[1m12s\u001b[0m 3ms/step - accuracy: 0.5040 - auc: 0.5241 - loss: 0.6953 - val_auc: 0.5241 - val_accuracy: 0.5428 - val_loss: 0.6903 - val_val_auc: 0.5121\n",
      "Epoch 43/50\n",
      "\u001b[1m3751/3751\u001b[0m \u001b[32m━━━━━━━━━━━━━━━━━━━━\u001b[0m\u001b[37m\u001b[0m \u001b[1m11s\u001b[0m 3ms/step - accuracy: 0.5047 - auc: 0.5222 - loss: 0.6956 - val_auc: 0.5222 - val_accuracy: 0.5285 - val_loss: 0.6827 - val_val_auc: 0.5137\n",
      "Epoch 44/50\n",
      "\u001b[1m3751/3751\u001b[0m \u001b[32m━━━━━━━━━━━━━━━━━━━━\u001b[0m\u001b[37m\u001b[0m \u001b[1m11s\u001b[0m 3ms/step - accuracy: 0.5096 - auc: 0.5212 - loss: 0.6959 - val_auc: 0.5212 - val_accuracy: 0.5272 - val_loss: 0.6970 - val_val_auc: 0.5154\n",
      "Epoch 45/50\n",
      "\u001b[1m3751/3751\u001b[0m \u001b[32m━━━━━━━━━━━━━━━━━━━━\u001b[0m\u001b[37m\u001b[0m \u001b[1m11s\u001b[0m 3ms/step - accuracy: 0.5245 - auc: 0.5185 - loss: 0.6925 - val_auc: 0.5185 - val_accuracy: 0.4019 - val_loss: 0.7053 - val_val_auc: 0.5190\n",
      "Epoch 46/50\n",
      "\u001b[1m3751/3751\u001b[0m \u001b[32m━━━━━━━━━━━━━━━━━━━━\u001b[0m\u001b[37m\u001b[0m \u001b[1m11s\u001b[0m 3ms/step - accuracy: 0.4884 - auc: 0.5217 - loss: 0.6942 - val_auc: 0.5217 - val_accuracy: 0.4645 - val_loss: 0.6961 - val_val_auc: 0.5006\n",
      "Epoch 47/50\n",
      "\u001b[1m3751/3751\u001b[0m \u001b[32m━━━━━━━━━━━━━━━━━━━━\u001b[0m\u001b[37m\u001b[0m \u001b[1m12s\u001b[0m 3ms/step - accuracy: 0.5342 - auc: 0.5161 - loss: 0.6889 - val_auc: 0.5161 - val_accuracy: 0.4983 - val_loss: 0.6991 - val_val_auc: 0.5225\n",
      "Epoch 48/50\n",
      "\u001b[1m3751/3751\u001b[0m \u001b[32m━━━━━━━━━━━━━━━━━━━━\u001b[0m\u001b[37m\u001b[0m \u001b[1m12s\u001b[0m 3ms/step - accuracy: 0.5138 - auc: 0.5254 - loss: 0.6919 - val_auc: 0.5254 - val_accuracy: 0.4710 - val_loss: 0.6979 - val_val_auc: 0.5189\n",
      "Epoch 49/50\n",
      "\u001b[1m3751/3751\u001b[0m \u001b[32m━━━━━━━━━━━━━━━━━━━━\u001b[0m\u001b[37m\u001b[0m \u001b[1m11s\u001b[0m 3ms/step - accuracy: 0.4921 - auc: 0.5213 - loss: 0.6959 - val_auc: 0.5213 - val_accuracy: 0.5368 - val_loss: 0.6910 - val_val_auc: 0.5103\n",
      "Epoch 50/50\n",
      "\u001b[1m3751/3751\u001b[0m \u001b[32m━━━━━━━━━━━━━━━━━━━━\u001b[0m\u001b[37m\u001b[0m \u001b[1m11s\u001b[0m 3ms/step - accuracy: 0.5233 - auc: 0.5162 - loss: 0.6909 - val_auc: 0.5162 - val_accuracy: 0.5688 - val_loss: 0.6894 - val_val_auc: 0.5024\n"
     ]
    }
   ],
   "source": [
    "from sklearn.utils.class_weight import compute_class_weight\n",
    "import numpy as np\n",
    "\n",
    "\n",
    "y_train_class = y_train  \n",
    "\n",
    "class_weights = compute_class_weight(class_weight='balanced', classes=np.unique(y_train_class), y=y_train_class)\n",
    "class_weight_dict = dict(zip(np.unique(y_train_class), class_weights))\n",
    "\n",
    "# Train the model with class weights\n",
    "history = model.fit(X_train, y_train, epochs=50, batch_size=64, class_weight=class_weight_dict, validation_data=(X_test, y_test))"
   ]
  },
  {
   "cell_type": "code",
   "execution_count": 18,
   "id": "7a1f8381-f99c-4343-9b5e-809b9f6e24c8",
   "metadata": {},
   "outputs": [
    {
     "name": "stdout",
     "output_type": "stream",
     "text": [
      "\u001b[1m1876/1876\u001b[0m \u001b[32m━━━━━━━━━━━━━━━━━━━━\u001b[0m\u001b[37m\u001b[0m \u001b[1m2s\u001b[0m 910us/step\n"
     ]
    },
    {
     "data": {
      "image/png": "[encoded data removed]",
      "text/plain": [
       "<Figure size 600x400 with 2 Axes>"
      ]
     },
     "metadata": {},
     "output_type": "display_data"
    },
    {
     "name": "stdout",
     "output_type": "stream",
     "text": [
      "Classification Report:\n",
      "               precision    recall  f1-score   support\n",
      "\n",
      "           0       0.92      0.58      0.71     54898\n",
      "           1       0.09      0.42      0.14      5105\n",
      "\n",
      "    accuracy                           0.57     60003\n",
      "   macro avg       0.50      0.50      0.43     60003\n",
      "weighted avg       0.85      0.57      0.66     60003\n",
      "\n",
      "AUC: 0.5029309506734045\n"
     ]
    }
   ],
   "source": [
    "from sklearn.metrics import confusion_matrix, classification_report, roc_auc_score\n",
    "import seaborn as sns\n",
    "import matplotlib.pyplot as plt\n",
    "\n",
    "\n",
    "y_pred = model.predict(X_test)  \n",
    "y_pred_class = (y_pred > 0.5).astype(int)  \n",
    "\n",
    "\n",
    "cm = confusion_matrix(y_test, y_pred_class)\n",
    "\n",
    "\n",
    "plt.figure(figsize=(6, 4))\n",
    "sns.heatmap(cm, annot=True, fmt='d', cmap='Blues', xticklabels=['No Fraud', 'Fraud'], yticklabels=['No Fraud', 'Fraud'])\n",
    "plt.xlabel('Predicted')\n",
    "plt.ylabel('True')\n",
    "plt.title('Confusion Matrix')\n",
    "plt.show()\n",
    "\n",
    "\n",
    "print(\"Classification Report:\\n\", classification_report(y_test, y_pred_class))\n",
    "\n",
    "\n",
    "auc = roc_auc_score(y_test, y_pred)\n",
    "print(f'AUC: {auc}')"
   ]
  },
  {
   "cell_type": "code",
   "execution_count": null,
   "id": "b878d906-a088-4ab9-8991-c33c62708ffa",
   "metadata": {},
   "outputs": [],
   "source": []
  }
 ],
 "metadata": {
  "kernelspec": {
   "display_name": "hackaton-sgh",
   "language": "python",
   "name": "python3"
  },
  "language_info": {
   "codemirror_mode": {
    "name": "ipython",
    "version": 3
   },
   "file_extension": ".py",
   "mimetype": "text/x-python",
   "name": "python",
   "nbconvert_exporter": "python",
   "pygments_lexer": "ipython3",
   "version": "3.9.13"
  }
 },
 "nbformat": 4,
 "nbformat_minor": 5
}
