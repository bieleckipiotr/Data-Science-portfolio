{
 "cells": [
  {
   "cell_type": "code",
   "execution_count": null,
   "metadata": {},
   "outputs": [],
   "source": [
    "from matplotlib import pyplot as plt\n",
    "import numpy as np"
   ]
  },
  {
   "cell_type": "code",
   "execution_count": null,
   "metadata": {},
   "outputs": [],
   "source": [
    "def plot_loss_accuracy(losses, accuracies, path = None):\n",
    "    fig, ax = plt.subplots(2,figsize = (12,8))\n",
    "    epochs = np.arange(len(losses))+1\n",
    "    ax[0].plot(epochs, losses, color = 'red', label = 'loss')\n",
    "    ax[0].set_title('loss')\n",
    "    ax[1].plot(epochs, accuracies, color = 'blue', label = 'accuracy')\n",
    "    ax[1].set_title('accuracy')\n",
    "    ax[0].tick_params(axis='x', which='both', bottom=False, top=False, labelbottom=False)\n",
    "    ax[1].set_xticks(epochs)\n",
    "    plt.tight_layout()\n",
    "    if path is not None:\n",
    "        plt.savefig(path, dpi = 200)"
   ]
  },
  {
   "cell_type": "code",
   "execution_count": null,
   "metadata": {},
   "outputs": [],
   "source": [
    "# 1e3 mean\n",
    "losses = [0.7003269791603088, 0.7023974061012268, 0.714143693447113, 0.691228985786438, 0.6886671781539917, 0.694756269454956, 0.6934349536895752, 0.6944340467453003, 0.6921892762184143, 0.6920614838600159]\n",
    "accuracies = [0.5021052631578947, 0.4978947368421053, 0.4978947368421053, 0.5021052631578947, 0.5021052631578947, 0.4978947368421053, 0.5021052631578947, 0.4978947368421053, 0.5021052631578947, 0.497894736]\n",
    "plot_loss_accuracy(losses, accuracies)\n",
    "plt.savefig('./media/1e3mean_loss.png')"
   ]
  },
  {
   "cell_type": "code",
   "execution_count": null,
   "metadata": {},
   "outputs": [],
   "source": [
    "# 1e3 max\n",
    "losses = [0.6698785424232483, 0.6835280060768127, 0.7015259265899658, 0.6940680742263794, 0.6908652782440186, 0.7247595191001892, 0.6878465414047241, 0.6907072067260742, 0.6877071857452393, 0.6914007663726807]\n",
    "accuracies = [0.5021052631578947, 0.5021052631578947, 0.4978947368421053, 0.4978947368421053, 0.4978947368421053, 0.4978947368421053, 0.4978947368421053, 0.4978947368421053, 0.5021052631578947, 0.5021052631578947]\n",
    "plot_loss_accuracy(losses, accuracies)"
   ]
  },
  {
   "cell_type": "code",
   "execution_count": null,
   "metadata": {},
   "outputs": [],
   "source": [
    "#1e4 mean\n",
    "losses = [0.00246197497472167, 0.0024985228665173054, 0.0004656642850022763, 0.022296972572803497, 0.0001784675696399063, 0.0010109550785273314, 0.01966177113354206, 0.00012873753439635038, 0.06394477188587189, 0.00012792818597517908]\n",
    "accuracies = [0.9863157894736843, 0.988421052631579, 0.9894736842105263, 0.9894736842105263, 0.988421052631579, 0.9926315789473684, 0.991578947368421, 0.991578947368421, 0.9894736842105263, 0.9894736842105263]\n",
    "plot_loss_accuracy(losses, accuracies)\n",
    "plt.savefig('./media/1e4mean_loss.png')"
   ]
  },
  {
   "cell_type": "code",
   "execution_count": null,
   "metadata": {},
   "outputs": [],
   "source": [
    "# 1e4 max\n",
    "losses = [0.002596749924123287, 0.003049516584724188, 0.0006868141354061663, 0.059095755219459534, 0.00035852246219292283, 0.0004923417582176626, 0.04465785250067711, 0.003993622958660126, 8.642284956295043e-05, 4.789802915183827e-05]\n",
    "accuracies = [0.9852631578947368, 0.9873684210526316, 0.988421052631579, 0.9905263157894737, 0.9863157894736843, 0.9894736842105263, 0.991578947368421, 0.9863157894736843, 0.988421052631579, 0.9905263157894737]\n",
    "plot_loss_accuracy(losses, accuracies)\n",
    "plt.savefig('./media/1e3max_loss.png')"
   ]
  },
  {
   "cell_type": "code",
   "execution_count": null,
   "metadata": {},
   "outputs": [],
   "source": [
    "# 1e5 mean\n",
    "losses = [0.0926118791103363, 0.023478997871279716, 0.00769911939278245, 0.1898622214794159, 0.004471309017390013, 0.002994535258039832, 0.003215169068425894, 0.005188924726098776, 0.0012213048757985234, 0.0011193135287612677]\n",
    "\n",
    "accuracies = [0.9736842105263158, 0.9852631578947368, 0.9852631578947368, 0.9905263157894737, 0.9842105263157894, 0.988421052631579, 0.9863157894736843, 0.9894736842105263, 0.9863157894736843, 0.9852631578947368]\n",
    "plot_loss_accuracy(losses, accuracies)\n",
    "plt.savefig('./media/1e5mean_loss.png')"
   ]
  },
  {
   "cell_type": "code",
   "execution_count": null,
   "metadata": {},
   "outputs": [],
   "source": [
    "#1e5 max\n",
    "losses = [0.0926118791103363, 0.023478997871279716, 0.00769911939278245, 0.1898622214794159, 0.004471309017390013, 0.002994535258039832, 0.003215169068425894, 0.005188924726098776, 0.0012213048757985234, 0.0011193135287612677]\n",
    "\n",
    "accuracies = [0.9736842105263158, 0.9852631578947368, 0.9852631578947368, 0.9905263157894737, 0.9842105263157894, 0.988421052631579, 0.9863157894736843, 0.9894736842105263, 0.9863157894736843, 0.9852631578947368]\n",
    "plot_loss_accuracy(losses, accuracies)\n",
    "plt.savefig('./media/1e5max_loss.png')"
   ]
  },
  {
   "cell_type": "code",
   "execution_count": null,
   "metadata": {},
   "outputs": [],
   "source": [
    "# 1e5 sum\n",
    "losses = [0.0010964109096676111, 0.012754046358168125, 0.0001233338552992791, 0.0004802409384865314, 0.01506571564823389, 0.008805232122540474, 4.599941894412041e-05, 0.0027212058193981647, 0.00017372984439134598, 4.4834232539869845e-05]\n",
    "\n",
    "accuracies = [0.9778947368421053, 0.9821052631578947, 0.988421052631579, 0.9873684210526316, 0.9863157894736843, 0.9894736842105263, 0.988421052631579, 0.9842105263157894, 0.9873684210526316, 0.9842105263157894]\n",
    "plot_loss_accuracy(losses, accuracies)\n",
    "plt.savefig('./media/1e5sum_loss.png')"
   ]
  },
  {
   "cell_type": "code",
   "execution_count": null,
   "metadata": {},
   "outputs": [],
   "source": [
    "losses = [0.37675410509109497, 0.09013311564922333, 0.018519634380936623, 0.21961364150047302, 0.0074935355223715305]\n",
    "accuracies = [0.9585552211159991, 0.9600987882997607, 0.9606390368140774, 0.9628772092305318, 0.9607162151732654]\n",
    "plot_loss_accuracy(losses, accuracies)\n",
    "plt.savefig('./media/loss_acc_full.png')"
   ]
  },
  {
   "cell_type": "code",
   "execution_count": null,
   "metadata": {},
   "outputs": [],
   "source": []
  }
 ],
 "metadata": {
  "kernelspec": {
   "display_name": "Python 3",
   "language": "python",
   "name": "python3"
  },
  "language_info": {
   "codemirror_mode": {
    "name": "ipython",
    "version": 3
   },
   "file_extension": ".py",
   "mimetype": "text/x-python",
   "name": "python",
   "nbconvert_exporter": "python",
   "pygments_lexer": "ipython3",
   "version": "3.11.7"
  }
 },
 "nbformat": 4,
 "nbformat_minor": 2
}
